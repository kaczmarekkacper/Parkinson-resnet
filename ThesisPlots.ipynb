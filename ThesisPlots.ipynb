{
 "cells": [
  {
   "cell_type": "code",
   "execution_count": 36,
   "metadata": {
    "collapsed": true
   },
   "outputs": [
    {
     "name": "stderr",
     "output_type": "stream",
     "text": [
      "C:\\Users\\Kaczmii\\AppData\\Local\\Temp\\ipykernel_1972\\1370852972.py:2: ParserWarning: Falling back to the 'python' engine because the 'c' engine does not support regex separators (separators > 1 char and different from '\\s+' are interpreted as regex); you can avoid this warning by specifying engine='python'.\n",
      "  patients = pd.read_csv('Data/demographics.txt', sep='\\\\t')\n"
     ]
    }
   ],
   "source": [
    "import pandas as pd\n",
    "patients = pd.read_csv('Data/demographics.txt', sep='\\\\t')\n"
   ]
  },
  {
   "cell_type": "code",
   "execution_count": 37,
   "outputs": [],
   "source": [
    "import utils\n",
    "\n",
    "records = utils.readData()"
   ],
   "metadata": {
    "collapsed": false
   }
  },
  {
   "cell_type": "code",
   "execution_count": 57,
   "outputs": [],
   "source": [
    "import matplotlib.pyplot as plt\n",
    "import matplotlib\n",
    "matplotlib.use('tkagg')\n",
    "import numpy as np\n",
    "\n",
    "healthy_patient_id = \"GaCo16\"\n",
    "parkinson_patient_id = \"GaPt26\"\n",
    "sample_number = 500\n",
    "\n",
    "healthy_record = records[healthy_patient_id][\"data1\"]\n",
    "parkinson_record = records[parkinson_patient_id][\"data1\"]\n",
    "\n",
    "x_healthy_left = healthy_record.Time.head(sample_number)\n",
    "y_healthy_left = healthy_record.Force_Left.head(sample_number)\n",
    "\n",
    "\n",
    "x_parkinson_left = parkinson_record.Time.head(sample_number)\n",
    "y_parkinson_left = parkinson_record.Force_Left.head(sample_number)\n",
    "\n",
    "y_lim_value = pd.concat(\n",
    "    [y_healthy_left, y_parkinson_left]).max()\n",
    "\n",
    "fig, axs = plt.subplots(2, 3)\n",
    "fig.tight_layout()\n",
    "\n",
    "healthy_plot_left = axs[0, 0]\n",
    "healthy_plot_left.set_title('Sygnał chodu')\n",
    "healthy_plot_left.plot(x_healthy_left, y_healthy_left)\n",
    "healthy_plot_left.set_ylim(0, y_lim_value)\n",
    "\n",
    "parkinson_plot_left = axs[1, 0]\n",
    "# parkinson_plot_left.set_title('b')\n",
    "parkinson_plot_left.plot(x_parkinson_left, y_parkinson_left)\n",
    "parkinson_plot_left.set_ylim(0, y_lim_value)\n",
    "\n",
    "def getShifted1lbp(series):\n",
    "    shifted1lbp = []\n",
    "    arrToIterate = np.concatenate((series.values[-4:], series.values, series.values[:5]))\n",
    "    for i in range(4, len(arrToIterate)-5):\n",
    "        pc = arrToIterate[i]\n",
    "        neighbors = np.concatenate((arrToIterate[i-4:i], arrToIterate[i+1: i+5]))\n",
    "        binaryNumber = \"\".join(['1' if x-pc>=0 else '0' for x in neighbors])\n",
    "        shifted1lbp.append(int(binaryNumber, 2))\n",
    "    return shifted1lbp\n",
    "\n",
    "healthyShifted1lbp = getShifted1lbp(y_healthy_left)\n",
    "parkinsonShifted1lbp = getShifted1lbp(y_parkinson_left)\n",
    "\n",
    "\n",
    "healthy_plot_left_shifted = axs[0, 1]\n",
    "healthy_plot_left_shifted.set_title('Transformata przesunięć')\n",
    "healthy_plot_left_shifted.plot(x_healthy_left, healthyShifted1lbp)\n",
    "healthy_plot_left_shifted.set_ylim(-1, 256)\n",
    "\n",
    "parkinson_plot_left_shifted = axs[1, 1]\n",
    "# parkinson_plot_left_shifted.set_title('d')\n",
    "parkinson_plot_left_shifted.plot(x_parkinson_left, parkinsonShifted1lbp)\n",
    "parkinson_plot_left_shifted.set_ylim(-1, 256)\n",
    "\n",
    "healthy_plot_left_hist = axs[0, 2]\n",
    "healthy_plot_left_hist.set_title('Histogram')\n",
    "healthy_plot_left_hist.hist(healthyShifted1lbp, bins=256)\n",
    "healthy_plot_left_hist.set_ylim(0, 255)\n",
    "\n",
    "parkinson_plot_left_hist = axs[1, 2]\n",
    "# parkinson_plot_left_hist.set_title('f')\n",
    "parkinson_plot_left_hist.hist(parkinsonShifted1lbp, bins=256)\n",
    "parkinson_plot_left_hist.set_ylim(0, 255)\n",
    "# plt.show()\n",
    "\n",
    "# healthy_plot_right = axs[1, 0]\n",
    "\n",
    "# fig.text(0.5, 0.04, 'Czas [s]', ha='center')\n",
    "# fig.text(0.02, 0.5, 'Siła nacisku [N]', va='center', rotation='vertical')\n",
    "\n",
    "plt.savefig(\"plots/shifted1lbpoverview.pdf\", format=\"pdf\", bbox_inches=\"tight\")"
   ],
   "metadata": {
    "collapsed": false
   }
  }
 ],
 "metadata": {
  "kernelspec": {
   "display_name": "Python 3",
   "language": "python",
   "name": "python3"
  },
  "language_info": {
   "codemirror_mode": {
    "name": "ipython",
    "version": 2
   },
   "file_extension": ".py",
   "mimetype": "text/x-python",
   "name": "python",
   "nbconvert_exporter": "python",
   "pygments_lexer": "ipython2",
   "version": "2.7.6"
  }
 },
 "nbformat": 4,
 "nbformat_minor": 0
}
