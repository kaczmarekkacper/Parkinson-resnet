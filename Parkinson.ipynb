{
 "cells": [
  {
   "cell_type": "markdown",
   "metadata": {
    "collapsed": false
   },
   "source": [
    "# Kaczmarek Kacper\n",
    "Jakiś wstęp potem\n",
    "\n"
   ]
  },
  {
   "cell_type": "markdown",
   "metadata": {
    "collapsed": false
   },
   "source": [
    "---\n",
    "# Procesowanie sygnału\n",
    "#### 1. Zaciągnięcie danych z bazy https://physionet.org/content/gaitpdb/1.0.0/\n",
    "#### 2. Zaczytanie danych\n",
    "#### 3. Przedstawienie danych\n",
    "---"
   ]
  },
  {
   "cell_type": "markdown",
   "metadata": {
    "collapsed": false
   },
   "source": [
    "### Zaczytanie pakietów"
   ]
  },
  {
   "cell_type": "code",
   "execution_count": 25,
   "metadata": {
    "collapsed": false
   },
   "outputs": [
    {
     "name": "stdout",
     "output_type": "stream",
     "text": [
      "Packages imported\n"
     ]
    }
   ],
   "source": [
    "import pandas as pd\n",
    "import utils\n",
    "import importlib\n",
    "importlib.reload(utils)\n",
    "print('Packages imported')"
   ]
  },
  {
   "cell_type": "markdown",
   "metadata": {
    "collapsed": false
   },
   "source": [
    "### Zaczytanie danych"
   ]
  },
  {
   "cell_type": "markdown",
   "metadata": {
    "collapsed": false
   },
   "source": [
    "#### Zaczytanie metadanych"
   ]
  },
  {
   "cell_type": "code",
   "execution_count": 26,
   "metadata": {
    "collapsed": false
   },
   "outputs": [
    {
     "name": "stderr",
     "output_type": "stream",
     "text": [
      "C:\\Users\\kacperk\\AppData\\Local\\Temp\\ipykernel_23456\\2100386468.py:2: ParserWarning: Falling back to the 'python' engine because the 'c' engine does not support regex separators (separators > 1 char and different from '\\s+' are interpreted as regex); you can avoid this warning by specifying engine='python'.\n",
      "  patients = pd.read_csv('Data/demographics.txt', sep='\\\\t')\n"
     ]
    }
   ],
   "source": [
    "import pandas as pd\n",
    "patients = pd.read_csv('Data/demographics.txt', sep='\\\\t')"
   ]
  },
  {
   "cell_type": "markdown",
   "metadata": {
    "collapsed": false
   },
   "source": [
    "#### Zaczytanie danych o pacjentach"
   ]
  },
  {
   "cell_type": "code",
   "execution_count": 27,
   "metadata": {
    "collapsed": false
   },
   "outputs": [],
   "source": [
    "import importlib\n",
    "import pandas as pd\n",
    "importlib.reload(utils)\n",
    "\n",
    "col_names = ['SUM', 'FILENAME']\n",
    "data_file_colum_names = ['Time', 'L1', 'L2', 'L3', 'L4', 'L5', 'L6', 'L7', 'L8','R1', 'R2', 'R3', 'R4', 'R5', 'R6', 'R7', 'R8', 'Force_Left', 'Force_Right']\n",
    "sums = pd.read_csv('Data/SHA256SUMS.txt', header=None, sep=' ', names=col_names)\n",
    "all_filenames = sums['FILENAME']\n",
    "filenames = all_filenames[all_filenames.str.contains(r'\\d.txt$')]\n",
    "records = {}\n",
    "for filename in filenames:\n",
    "    patientID = utils.getPatientID(filename)\n",
    "    measureNumber = utils.getMeasureNumber(filename)\n",
    "    if patientID not in records:\n",
    "        records[patientID] = {}\n",
    "    records[patientID][f'data{measureNumber}'] = pd.read_csv(f'Data/{filename}', header=None, sep='\\t', names=data_file_colum_names)"
   ]
  },
  {
   "cell_type": "markdown",
   "metadata": {
    "collapsed": false
   },
   "source": [
    "### Prezentacja danych"
   ]
  },
  {
   "cell_type": "markdown",
   "metadata": {
    "collapsed": false
   },
   "source": [
    "#### Przykład zdrowego i chorego i rozkład sił na lewej i prawej stopie"
   ]
  },
  {
   "cell_type": "code",
   "execution_count": 28,
   "metadata": {
    "collapsed": false
   },
   "outputs": [
    {
     "name": "stdout",
     "output_type": "stream",
     "text": [
      "There is 12119 records in healthy\n",
      "There is 12119 records in parkinson\n"
     ]
    }
   ],
   "source": [
    "import matplotlib.pyplot as plt\n",
    "healthy_patient_id = \"GaCo16\"\n",
    "parkinson_patient_id = \"GaPt26\"\n",
    "sample_number = 240\n",
    "\n",
    "healthy_record = records[healthy_patient_id][\"data1\"]\n",
    "parkinson_record = records[parkinson_patient_id][\"data1\"]\n",
    "\n",
    "print( f'There is {len(healthy_record)} records in healthy')\n",
    "x_healthy_left = healthy_record.Time.head(sample_number)\n",
    "y_healthy_left = healthy_record.Force_Left.head(sample_number)\n",
    "x_healthy_right = healthy_record.Time.head(sample_number)\n",
    "y_healthy_right = healthy_record.Force_Right.head(sample_number)\n",
    "\n",
    "print( f'There is {len(parkinson_record)} records in parkinson')\n",
    "x_parkinson_left = parkinson_record.Time.head(sample_number)\n",
    "y_parkinson_left = parkinson_record.Force_Left.head(sample_number)\n",
    "x_parkinson_right = parkinson_record.Time.head(sample_number)\n",
    "y_parkinson_right = parkinson_record.Force_Right.head(sample_number)\n",
    "\n",
    "y_lim_value = pd.concat([y_healthy_left, y_healthy_right, y_parkinson_left, y_parkinson_right]).max()\n",
    "\n",
    "fig, axs = plt.subplots(2, 2)\n",
    "healthy_plot_left = axs[0,0]\n",
    "healthy_plot_left.set_title('Normalny')\n",
    "healthy_plot_left.plot(x_healthy_left, y_healthy_left)\n",
    "healthy_plot_left.set_ylim(0, y_lim_value)\n",
    "parkinson_plot_left = axs[0,1]\n",
    "parkinson_plot_left.set_title('Parkinson')\n",
    "parkinson_plot_left.plot(x_parkinson_left, y_parkinson_left)\n",
    "parkinson_plot_left.set_ylim(0, y_lim_value)\n",
    "healthy_plot_right = axs[1,0]\n",
    "healthy_plot_right.plot(x_healthy_right, y_healthy_right)\n",
    "healthy_plot_right.set_ylim(0, y_lim_value)\n",
    "parkinson_plot_right = axs[1,1]\n",
    "parkinson_plot_right.plot(x_parkinson_right, y_parkinson_right)\n",
    "parkinson_plot_right.set_ylim(0, y_lim_value)\n",
    "fig.text(0.5, 0.04, 'Czas [s]', ha='center')\n",
    "fig.text(0.02, 0.5, 'Siła nacisku [N]', va='center', rotation='vertical')\n",
    "\n",
    "plt.savefig(\"plots/gait-comparison.pdf\", format=\"pdf\", bbox_inches=\"tight\")"
   ]
  },
  {
   "cell_type": "markdown",
   "metadata": {
    "collapsed": false
   },
   "source": [
    "#### Każdy czujnik dla zdrowego i chorego"
   ]
  },
  {
   "cell_type": "code",
   "execution_count": 29,
   "metadata": {
    "collapsed": false
   },
   "outputs": [],
   "source": [
    "import utils\n",
    "healthy_patient_id = \"GaCo16\"\n",
    "\n",
    "healthy_record = records[healthy_patient_id][\"data1\"]\n",
    "\n",
    "utils.createAllSensorPlot(healthy_record, 'healthy_all_sensors', sample_number)"
   ]
  },
  {
   "cell_type": "code",
   "execution_count": 30,
   "metadata": {
    "collapsed": false
   },
   "outputs": [],
   "source": [
    "import utils\n",
    "parkinson_patient_id = \"GaPt26\"\n",
    "\n",
    "parkinson_record = records[parkinson_patient_id][\"data1\"]\n",
    "\n",
    "utils.createAllSensorPlot(parkinson_record, 'parkinson_all_sensors', sample_number)"
   ]
  },
  {
   "cell_type": "markdown",
   "metadata": {
    "collapsed": false
   },
   "source": [
    "#### Wyliczenie najmniejszej porcji danych chodu"
   ]
  },
  {
   "cell_type": "code",
   "execution_count": 31,
   "metadata": {
    "collapsed": false
   },
   "outputs": [
    {
     "name": "stdout",
     "output_type": "stream",
     "text": [
      "4034\n"
     ]
    }
   ],
   "source": [
    "sample_len = float(\"inf\")\n",
    "for key, value in records.items():\n",
    "    record = value['data1']\n",
    "    sample_len = min(len(record.Time), sample_len)\n",
    "\n",
    "print(sample_len)"
   ]
  },
  {
   "cell_type": "markdown",
   "metadata": {
    "collapsed": false
   },
   "source": [
    "#### Prezentacja typów falek"
   ]
  },
  {
   "cell_type": "code",
   "execution_count": 32,
   "metadata": {
    "collapsed": false
   },
   "outputs": [
    {
     "name": "stderr",
     "output_type": "stream",
     "text": [
      "c:\\Python38\\lib\\site-packages\\matplotlib\\cbook\\__init__.py:1369: ComplexWarning: Casting complex values to real discards the imaginary part\n",
      "  return np.asarray(x, float)\n"
     ]
    }
   ],
   "source": [
    "from scipy import signal\n",
    "import matplotlib.pyplot as plt\n",
    "\n",
    "\n",
    "points = 100\n",
    "a = 4.0\n",
    "w = 0.0\n",
    "\n",
    "plt.figure()\n",
    "vec_ricker = signal.ricker(points, a)\n",
    "plt.plot(vec_ricker)\n",
    "\n",
    "plt.savefig(\"plots/wavelet-type-ricker.pdf\", format=\"pdf\", bbox_inches=\"tight\")\n",
    "\n",
    "plt.figure()\n",
    "vec_morlet2 = signal.morlet2(points, a, w)\n",
    "plt.plot(vec_morlet2)\n",
    "\n",
    "plt.savefig(\"plots/wavelet-type-morlet.pdf\", format=\"pdf\", bbox_inches=\"tight\")\n"
   ]
  },
  {
   "cell_type": "markdown",
   "metadata": {
    "collapsed": false
   },
   "source": [
    "#### Wykresy transfomaty falkowej"
   ]
  },
  {
   "cell_type": "code",
   "execution_count": 33,
   "metadata": {
    "collapsed": false
   },
   "outputs": [],
   "source": [
    "import matplotlib.pyplot as plt\n",
    "from scipy import signal\n",
    "import numpy as np\n",
    "\n",
    "healthy_patient_id = \"GaCo16\"\n",
    "parkinson_patient_id = \"GaPt26\"\n",
    "\n",
    "healthy_record = records[healthy_patient_id][\"data1\"]\n",
    "parkinson_record = records[parkinson_patient_id][\"data1\"]\n",
    "\n",
    "sample_number = 4034\n",
    "\n",
    "y_healthy = healthy_record.Force_Left.head(sample_number)\n",
    "x_healthy = healthy_record.Time.head(sample_number)\n",
    "\n",
    "y_parkinson = parkinson_record.Force_Left.head(sample_number)\n",
    "x_parkinson = parkinson_record.Time.head(sample_number)\n",
    "\n",
    "width = 100\n",
    "widths = np.arange(1, width)\n",
    "cwtmatr = signal.cwt(y_healthy, signal.ricker, widths)\n",
    "plt.figure()\n",
    "plt.imshow(abs(cwtmatr), extent=[0, x_healthy.values[-1], width, 1], cmap='PRGn', aspect='auto', vmax=abs(cwtmatr).max(), vmin=-abs(cwtmatr).min())\n",
    "plt.savefig(\"plots/healthy-wavelet.pdf\", format=\"pdf\", bbox_inches=\"tight\")\n",
    "\n",
    "widths = np.arange(1, width)\n",
    "cwtmatr = signal.cwt(y_parkinson, signal.ricker, widths)\n",
    "plt.figure()\n",
    "plt.imshow(abs(cwtmatr), extent=[0, x_parkinson.values[-1], width, 1], cmap='PRGn', aspect='auto', vmax=abs(cwtmatr).max(), vmin=-abs(cwtmatr).min())\n",
    "plt.savefig(\"plots/parkinson-wavelet.pdf\", format=\"pdf\", bbox_inches=\"tight\")"
   ]
  },
  {
   "cell_type": "markdown",
   "metadata": {
    "collapsed": false
   },
   "source": [
    "Porównanie tranformaty falkowej morleta i rickera"
   ]
  },
  {
   "cell_type": "code",
   "execution_count": 39,
   "metadata": {
    "collapsed": false
   },
   "outputs": [],
   "source": [
    "import matplotlib.pyplot as plt\n",
    "from scipy import signal\n",
    "import numpy as np\n",
    "\n",
    "healthy_patient_id = \"GaCo16\"\n",
    "parkinson_patient_id = \"GaPt26\"\n",
    "\n",
    "healthy_record = records[healthy_patient_id][\"data1\"]\n",
    "\n",
    "# sample_number = 4034\n",
    "sample_number = 1000\n",
    "\n",
    "y_healthy = healthy_record.Force_Left.head(sample_number)\n",
    "x_healthy = healthy_record.Time.head(sample_number)\n",
    "\n",
    "\n",
    "width = 100\n",
    "\n",
    "w = 0.0\n",
    "widths = np.arange(1, width)\n",
    "cwtmatr = signal.cwt(y_healthy, signal.morlet2, widths, w=w)\n",
    "\n",
    "plt.figure()\n",
    "plt.imshow(abs(cwtmatr), extent=[0, x_healthy.values[-1], width, 1], cmap='PRGn', aspect='auto', vmax=abs(cwtmatr).max(), vmin=-abs(cwtmatr).min())\n",
    "plt.savefig(\"plots/healthy-morlet.pdf\", format=\"pdf\", bbox_inches=\"tight\")\n",
    "\n",
    "widths = np.arange(1, width)\n",
    "cwtmatr = signal.cwt(y_healthy, signal.ricker, widths)\n",
    "plt.figure()\n",
    "plt.imshow(abs(cwtmatr), extent=[0, x_healthy.values[-1], width, 1], cmap='PRGn', aspect='auto', vmax=abs(cwtmatr).max(), vmin=-abs(cwtmatr).min())\n",
    "plt.savefig(\"plots/healthy-ricker.pdf\", format=\"pdf\", bbox_inches=\"tight\")"
   ]
  },
  {
   "cell_type": "markdown",
   "metadata": {
    "collapsed": false
   },
   "source": [
    "### Klasyfikacja"
   ]
  },
  {
   "cell_type": "markdown",
   "metadata": {
    "collapsed": false
   },
   "source": [
    "#### Tworzenie obrazów do klasyfikacji"
   ]
  },
  {
   "cell_type": "code",
   "execution_count": 43,
   "metadata": {
    "collapsed": false
   },
   "outputs": [
    {
     "name": "stdout",
     "output_type": "stream",
     "text": [
      "Processing ID = JuPt03\n",
      "Processing ID = GaPt15\n",
      "Processing ID = GaCo08\n",
      "Processing ID = GaPt14\n",
      "Processing ID = JuPt01\n",
      "Processing ID = JuPt28\n",
      "Processing ID = JuCo06\n",
      "Processing ID = GaPt24\n",
      "Processing ID = SiCo22\n",
      "Processing ID = JuPt29\n",
      "Processing ID = SiCo16\n",
      "Processing ID = JuCo19\n",
      "Processing ID = GaPt28\n",
      "Processing ID = JuPt24\n",
      "Processing ID = SiCo11\n",
      "Processing ID = GaPt08\n",
      "Processing ID = GaPt20\n",
      "Processing ID = GaCo09\n",
      "Processing ID = GaPt26\n",
      "Processing ID = SiPt29\n",
      "Processing ID = SiCo01\n",
      "Processing ID = SiPt14\n",
      "Processing ID = SiPt18\n",
      "Processing ID = SiCo28\n",
      "Processing ID = SiPt20\n",
      "Processing ID = JuPt06\n",
      "Processing ID = JuCo04\n",
      "Processing ID = GaPt31\n",
      "Processing ID = SiPt38\n",
      "Processing ID = JuCo24\n",
      "Processing ID = GaPt19\n",
      "Processing ID = JuPt20\n",
      "Processing ID = GaCo13\n",
      "Processing ID = SiCo03\n",
      "Processing ID = JuPt23\n",
      "Processing ID = SiCo24\n",
      "Processing ID = SiCo04\n",
      "Processing ID = JuPt04\n",
      "Processing ID = GaPt09\n",
      "Processing ID = JuPt09\n",
      "Processing ID = JuPt15\n",
      "Processing ID = GaCo01\n",
      "Processing ID = JuPt17\n",
      "Processing ID = GaPt23\n",
      "Processing ID = GaPt32\n",
      "Processing ID = SiCo23\n",
      "Processing ID = JuPt11\n",
      "Processing ID = GaPt29\n",
      "Processing ID = JuPt21\n",
      "Processing ID = GaCo15\n",
      "Processing ID = GaCo06\n",
      "Processing ID = SiPt17\n",
      "Processing ID = GaCo17\n",
      "Processing ID = JuPt05\n",
      "Processing ID = JuCo18\n",
      "Processing ID = JuCo21\n",
      "Processing ID = SiPt37\n",
      "Processing ID = GaCo10\n",
      "Processing ID = GaCo02\n",
      "Processing ID = JuPt10\n",
      "Processing ID = JuPt26\n",
      "Processing ID = SiPt39\n",
      "Processing ID = SiPt13\n",
      "Processing ID = SiCo08\n",
      "Processing ID = GaPt27\n",
      "Processing ID = JuPt14\n",
      "Processing ID = GaCo22\n",
      "Processing ID = SiCo27\n",
      "Processing ID = GaPt13\n",
      "Processing ID = JuCo09\n",
      "Processing ID = JuCo03\n",
      "Processing ID = JuCo16\n",
      "Processing ID = SiCo07\n",
      "Processing ID = GaPt22\n",
      "Processing ID = GaPt18\n",
      "Processing ID = SiPt34\n",
      "Processing ID = JuPt08\n",
      "Processing ID = JuCo15\n",
      "Processing ID = JuCo13\n",
      "Processing ID = SiCo10\n",
      "Processing ID = JuCo02\n",
      "Processing ID = JuCo23\n",
      "Processing ID = GaPt12\n",
      "Processing ID = SiCo30\n",
      "Processing ID = JuCo20\n",
      "Processing ID = GaCo11\n",
      "Processing ID = GaPt16\n",
      "Processing ID = SiCo21\n",
      "Processing ID = GaCo05\n",
      "Processing ID = SiCo13\n",
      "Processing ID = JuCo22\n",
      "Processing ID = SiCo19\n",
      "Processing ID = SiCo09\n",
      "Processing ID = GaPt21\n",
      "Processing ID = JuCo08\n",
      "Processing ID = JuPt22\n",
      "Processing ID = GaPt33\n",
      "Processing ID = GaCo04\n",
      "Processing ID = JuPt16\n",
      "Processing ID = SiPt12\n",
      "Processing ID = JuPt25\n",
      "Processing ID = GaPt17\n",
      "Processing ID = JuCo25\n",
      "Processing ID = SiPt04\n",
      "Processing ID = JuPt13\n",
      "Processing ID = SiCo15\n",
      "Processing ID = SiPt15\n",
      "Processing ID = GaPt30\n",
      "Processing ID = SiCo05\n",
      "Processing ID = SiCo20\n",
      "Processing ID = SiPt21\n",
      "Processing ID = JuPt18\n",
      "Processing ID = SiPt30\n",
      "Processing ID = SiCo17\n",
      "Processing ID = GaCo03\n",
      "Processing ID = GaPt25\n",
      "Processing ID = SiCo26\n",
      "Processing ID = SiPt40\n",
      "Processing ID = SiPt10\n",
      "Processing ID = SiCo25\n",
      "Processing ID = JuCo01\n",
      "Processing ID = JuPt12\n",
      "Processing ID = SiPt19\n",
      "Processing ID = SiPt02\n",
      "Processing ID = SiPt36\n",
      "Processing ID = SiPt27\n",
      "Processing ID = GaCo07\n",
      "Processing ID = SiPt23\n",
      "Processing ID = SiPt07\n",
      "Processing ID = GaPt07\n",
      "Processing ID = SiPt28\n",
      "Processing ID = SiPt32\n",
      "Processing ID = JuPt07\n",
      "Processing ID = JuPt19\n",
      "Processing ID = SiPt31\n",
      "Processing ID = GaPt05\n",
      "Processing ID = SiPt24\n",
      "Processing ID = GaCo14\n",
      "Processing ID = SiCo14\n",
      "Processing ID = JuCo26\n",
      "Processing ID = SiPt09\n",
      "Processing ID = SiCo29\n",
      "Processing ID = JuCo11\n",
      "Processing ID = JuCo07\n",
      "Processing ID = SiPt16\n",
      "Processing ID = SiPt08\n",
      "Processing ID = GaCo16\n",
      "Processing ID = SiPt25\n",
      "Processing ID = JuCo17\n",
      "Processing ID = JuPt02\n",
      "Processing ID = SiPt22\n",
      "Processing ID = JuPt27\n",
      "Processing ID = GaPt04\n",
      "Processing ID = SiPt35\n",
      "Processing ID = JuCo12\n",
      "Processing ID = GaPt03\n",
      "Processing ID = SiCo12\n",
      "Processing ID = SiPt05\n",
      "Processing ID = SiCo06\n",
      "Processing ID = SiCo18\n",
      "Processing ID = SiPt33\n",
      "Processing ID = GaPt06\n",
      "Processing ID = GaCo12\n",
      "Processing ID = JuCo14\n",
      "Processing ID = JuCo05\n"
     ]
    }
   ],
   "source": [
    "cond = True\n",
    "if cond:\n",
    "    width = 100\n",
    "    widths = np.arange(1, width)\n",
    "    sample_number = 1000\n",
    "    w = 0.0\n",
    "    for key, value in records.items():\n",
    "        print(f'Processing ID = {key}')\n",
    "        record = value['data1']\n",
    "        x = record.Time.head(sample_number)\n",
    "        y = record.Force_Right.head(sample_number)\n",
    "        hoehnYahr = patients[patients['ID'] == key]['HoehnYahr'].values[0]\n",
    "        parkinson = 'Parkinson' if hoehnYahr > 0 else 'Healthy'\n",
    "        hoehnYahr = hoehnYahr if hoehnYahr > 0 else 0.0\n",
    "        cwtFunc = lambda: signal.cwt(y, signal.morlet2, widths, w=w)\n",
    "        utils.createWaveletPlot(x, y, parkinson, key, cwtFunc)\n",
    "        utils.createWaveletPlot(x, y, hoehnYahr, key, cwtFunc)"
   ]
  },
  {
   "cell_type": "markdown",
   "metadata": {
    "collapsed": false
   },
   "source": [
    "#### Przygotowanie zbiorów danych"
   ]
  },
  {
   "cell_type": "code",
   "execution_count": 36,
   "metadata": {
    "collapsed": false
   },
   "outputs": [],
   "source": [
    "import csv\n",
    "import os\n",
    "import pickle\n",
    "\n",
    "cond = False\n",
    "if cond:\n",
    "    type = \"Binary\"\n",
    "    wavelet = \"Morlet\"\n",
    "    directory = f\"{os.getcwd()}/Datasets/{type}/{wavelet}\"\n",
    "    output = f\"{os.getcwd()}/Datasets/{type}/{wavelet}\"\n",
    "    split = \"70/20/10\"\n",
    "    \n",
    "    train_f = open(f\"{output}_train\", 'w', encoding='UTF8', newline='')\n",
    "    train_writer = csv.writer(train_f)\n",
    "    test_f = open(f\"{output}_test\", 'w', encoding='UTF8', newline='')\n",
    "    test_writer = csv.writer(test_f)\n",
    "    validation_f = open(f\"{output}_validation\", 'w', encoding='UTF8', newline='')\n",
    "    validation_writer = csv.writer(validation_f)\n",
    "\n",
    "    s = split.split('/')\n",
    "    splits = {\n",
    "        \"train\": int(s[0]),\n",
    "        \"test\": int(s[1]),\n",
    "        \"validation\": int(s[2])\n",
    "    }\n",
    "\n",
    "    classes = {}\n",
    "    for idx, c in enumerate(os.listdir(directory)):\n",
    "        classes[idx] = c\n",
    "\n",
    "        images = os.listdir(f\"{directory}/{c}\")\n",
    "        class_count = len(images)\n",
    "        for imidx, filename in enumerate(images):\n",
    "            row = [f\"{c}/{filename}\", idx]\n",
    "            if imidx < class_count * splits[\"train\"] / 100:\n",
    "                train_writer.writerow(row)\n",
    "            elif imidx < class_count * (splits[\"train\"] + splits[\"test\"]) / 100:\n",
    "                test_writer.writerow(row)\n",
    "            else:\n",
    "                validation_writer.writerow(row)\n",
    "\n",
    "    with open(f\"{output}_utils\", 'wb') as f:\n",
    "        pickle.dump(classes, f)\n",
    "\n",
    "    train_f.close()\n",
    "    test_f.close()\n",
    "    validation_f.close()"
   ]
  },
  {
   "cell_type": "markdown",
   "metadata": {
    "collapsed": false
   },
   "source": [
    "#### Uczenie sieci"
   ]
  },
  {
   "cell_type": "markdown",
   "metadata": {
    "collapsed": false
   },
   "source": []
  },
  {
   "cell_type": "code",
   "execution_count": 45,
   "metadata": {
    "collapsed": false
   },
   "outputs": [
    {
     "name": "stdout",
     "output_type": "stream",
     "text": [
      "Epoch 0/29\n",
      "----------\n",
      "train Loss: 0.6815 Acc: 0.6121\n",
      "val Loss: 0.6905 Acc: 0.6000\n",
      "\n",
      "Epoch 1/29\n",
      "----------\n",
      "train Loss: 0.6876 Acc: 0.6034\n",
      "val Loss: 0.6854 Acc: 0.6000\n",
      "\n",
      "Epoch 2/29\n",
      "----------\n",
      "train Loss: 0.6784 Acc: 0.6121\n",
      "val Loss: 0.6838 Acc: 0.6000\n",
      "\n",
      "Epoch 3/29\n",
      "----------\n",
      "train Loss: 0.6706 Acc: 0.6121\n",
      "val Loss: 0.6807 Acc: 0.5333\n",
      "\n",
      "Epoch 4/29\n",
      "----------\n",
      "train Loss: 0.6655 Acc: 0.6207\n",
      "val Loss: 0.6962 Acc: 0.4000\n",
      "\n",
      "Epoch 5/29\n",
      "----------\n",
      "train Loss: 0.6660 Acc: 0.6121\n",
      "val Loss: 0.6834 Acc: 0.6000\n",
      "\n",
      "Epoch 6/29\n",
      "----------\n",
      "train Loss: 0.6541 Acc: 0.6034\n",
      "val Loss: 0.6801 Acc: 0.5333\n",
      "\n",
      "Epoch 7/29\n",
      "----------\n",
      "train Loss: 0.6497 Acc: 0.6207\n",
      "val Loss: 0.6921 Acc: 0.5333\n",
      "\n",
      "Epoch 8/29\n",
      "----------\n",
      "train Loss: 0.6481 Acc: 0.6379\n",
      "val Loss: 0.6841 Acc: 0.5333\n",
      "\n",
      "Epoch 9/29\n",
      "----------\n",
      "train Loss: 0.6444 Acc: 0.6379\n",
      "val Loss: 0.6931 Acc: 0.6000\n",
      "\n",
      "Epoch 10/29\n",
      "----------\n",
      "train Loss: 0.6317 Acc: 0.6466\n",
      "val Loss: 0.6764 Acc: 0.6000\n",
      "\n",
      "Epoch 11/29\n",
      "----------\n",
      "train Loss: 0.6391 Acc: 0.6466\n",
      "val Loss: 0.6600 Acc: 0.6000\n",
      "\n",
      "Epoch 12/29\n",
      "----------\n",
      "train Loss: 0.6327 Acc: 0.6552\n",
      "val Loss: 0.6802 Acc: 0.5333\n",
      "\n",
      "Epoch 13/29\n",
      "----------\n",
      "train Loss: 0.6253 Acc: 0.6897\n",
      "val Loss: 0.6949 Acc: 0.6000\n",
      "\n",
      "Epoch 14/29\n",
      "----------\n",
      "train Loss: 0.6195 Acc: 0.6983\n",
      "val Loss: 0.6814 Acc: 0.6000\n",
      "\n",
      "Epoch 15/29\n",
      "----------\n",
      "train Loss: 0.6108 Acc: 0.6897\n",
      "val Loss: 0.6775 Acc: 0.6000\n",
      "\n",
      "Epoch 16/29\n",
      "----------\n",
      "train Loss: 0.6131 Acc: 0.7069\n",
      "val Loss: 0.6728 Acc: 0.6000\n",
      "\n",
      "Epoch 17/29\n",
      "----------\n",
      "train Loss: 0.5958 Acc: 0.6897\n",
      "val Loss: 0.6757 Acc: 0.5333\n",
      "\n",
      "Epoch 18/29\n",
      "----------\n",
      "train Loss: 0.5982 Acc: 0.7672\n",
      "val Loss: 0.6725 Acc: 0.6000\n",
      "\n",
      "Epoch 19/29\n",
      "----------\n",
      "train Loss: 0.5820 Acc: 0.7241\n",
      "val Loss: 0.6766 Acc: 0.6000\n",
      "\n",
      "Epoch 20/29\n",
      "----------\n",
      "train Loss: 0.5740 Acc: 0.7586\n",
      "val Loss: 0.6697 Acc: 0.6667\n",
      "\n",
      "Epoch 21/29\n",
      "----------\n",
      "train Loss: 0.5926 Acc: 0.7328\n",
      "val Loss: 0.6809 Acc: 0.6000\n",
      "\n",
      "Epoch 22/29\n",
      "----------\n",
      "train Loss: 0.5733 Acc: 0.7845\n",
      "val Loss: 0.6684 Acc: 0.6000\n",
      "\n",
      "Epoch 23/29\n",
      "----------\n",
      "train Loss: 0.5524 Acc: 0.8190\n",
      "val Loss: 0.6866 Acc: 0.4667\n",
      "\n",
      "Epoch 24/29\n",
      "----------\n",
      "train Loss: 0.5503 Acc: 0.8190\n",
      "val Loss: 0.6598 Acc: 0.6000\n",
      "\n",
      "Epoch 25/29\n",
      "----------\n",
      "train Loss: 0.5463 Acc: 0.8103\n",
      "val Loss: 0.7417 Acc: 0.4667\n",
      "\n",
      "Epoch 26/29\n",
      "----------\n",
      "train Loss: 0.5395 Acc: 0.8534\n",
      "val Loss: 0.6857 Acc: 0.6000\n",
      "\n",
      "Epoch 27/29\n",
      "----------\n",
      "train Loss: 0.5332 Acc: 0.8362\n",
      "val Loss: 0.6743 Acc: 0.6667\n",
      "\n",
      "Epoch 28/29\n",
      "----------\n",
      "train Loss: 0.5360 Acc: 0.8448\n",
      "val Loss: 0.6795 Acc: 0.5333\n",
      "\n",
      "Epoch 29/29\n",
      "----------\n",
      "train Loss: 0.5200 Acc: 0.8621\n",
      "val Loss: 0.7197 Acc: 0.4667\n",
      "\n",
      "Training complete in 29m 56s\n",
      "Best val Acc: 0.666667\n"
     ]
    },
    {
     "data": {
      "image/png": "[encoded data removed]",
      "text/plain": [
       "<Figure size 640x480 with 1 Axes>"
      ]
     },
     "metadata": {},
     "output_type": "display_data"
    },
    {
     "data": {
      "image/png": "[encoded data removed]",
      "text/plain": [
       "<Figure size 640x480 with 1 Axes>"
      ]
     },
     "metadata": {},
     "output_type": "display_data"
    },
    {
     "name": "stdout",
     "output_type": "stream",
     "text": [
      "Test dataset Accuracy: 0.5806451612903226\n",
      "Test dataset Confusion_matrix \n",
      " [[ 0. 13.]\n",
      " [ 0. 18.]]\n"
     ]
    }
   ],
   "source": [
    "import LearningUtils\n",
    "import importlib\n",
    "import os\n",
    "import ModelTrainer\n",
    "from torchvision import models\n",
    "from torchsummary import summary\n",
    "importlib.reload(ModelTrainer)\n",
    "\n",
    "cond = True\n",
    "if cond:\n",
    "    imgdir = f\"{os.getcwd()}/Datasets/Binary/Morlet\"\n",
    "\n",
    "    classes = LearningUtils.get_classes(imgdir)\n",
    "    train_data_loader, validation_data_loader, test_data_loader = LearningUtils.prepare_data(imgdir)\n",
    "    model_trainer = ModelTrainer.ModelTrainer(classes)\n",
    "    resnet = models.resnet50(weights=models.ResNet50_Weights.DEFAULT)\n",
    "    # summary(resnet, (3, 224, 224))\n",
    "    model = model_trainer.train_resnet(resnet, train_data_loader, validation_data_loader, num_epochs=100)\n",
    "    model.eval()\n",
    "    LearningUtils.predict_image(model, test_data_loader, classes)"
   ]
  },
  {
   "cell_type": "code",
   "execution_count": null,
   "metadata": {},
   "outputs": [],
   "source": []
  }
 ],
 "metadata": {
  "kernelspec": {
   "display_name": "Python 3.8.3 64-bit",
   "language": "python",
   "name": "python3"
  },
  "language_info": {
   "codemirror_mode": {
    "name": "ipython",
    "version": 3
   },
   "file_extension": ".py",
   "mimetype": "text/x-python",
   "name": "python",
   "nbconvert_exporter": "python",
   "pygments_lexer": "ipython3",
   "version": "3.8.3"
  },
  "vscode": {
   "interpreter": {
    "hash": "9650cb4e16cdd4a8e8e2d128bf38d875813998db22a3c986335f89e0cb4d7bb2"
   }
  }
 },
 "nbformat": 4,
 "nbformat_minor": 0
}
